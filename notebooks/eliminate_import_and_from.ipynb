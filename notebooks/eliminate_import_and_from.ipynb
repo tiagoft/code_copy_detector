{
 "cells": [
  {
   "cell_type": "code",
   "execution_count": null,
   "metadata": {},
   "outputs": [],
   "source": [
    "import tokenize\n",
    "import code_copy_detector as ccd\n",
    "\n",
    "fname = 'code_with_imports.py'\n",
    "# with tokenize.open(fname) as f:\n",
    "#     tokens = tokenize.generate_tokens(f.readline)\n",
    "#     tokenlist = [token for token in tokens]\n",
    "#     print(tokenlist)"
   ]
  },
  {
   "cell_type": "code",
   "execution_count": 2,
   "metadata": {},
   "outputs": [
    {
     "data": {
      "text/plain": [
       "[TokenInfo(type=62 (NL), string='\\n', start=(4, 19), end=(4, 20), line='# This is a comment\\n'),\n",
       " TokenInfo(type=0 (ENDMARKER), string='', start=(5, 0), end=(5, 0), line='')]"
      ]
     },
     "execution_count": 2,
     "metadata": {},
     "output_type": "execute_result"
    }
   ],
   "source": [
    "ccd.get_token_list(fname)\n"
   ]
  },
  {
   "cell_type": "code",
   "execution_count": null,
   "metadata": {},
   "outputs": [],
   "source": []
  }
 ],
 "metadata": {
  "kernelspec": {
   "display_name": "code_copy_detector",
   "language": "python",
   "name": "python3"
  },
  "language_info": {
   "codemirror_mode": {
    "name": "ipython",
    "version": 3
   },
   "file_extension": ".py",
   "mimetype": "text/x-python",
   "name": "python",
   "nbconvert_exporter": "python",
   "pygments_lexer": "ipython3",
   "version": "3.11.10"
  }
 },
 "nbformat": 4,
 "nbformat_minor": 2
}
