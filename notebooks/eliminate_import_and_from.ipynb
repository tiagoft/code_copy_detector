{
 "cells": [
  {
   "cell_type": "code",
   "execution_count": 5,
   "metadata": {},
   "outputs": [],
   "source": [
    "import tokenize\n",
    "import code_copy_detector as ccd\n",
    "\n",
    "fname = 'code_with_imports.py'\n",
    "# with tokenize.open(fname) as f:\n",
    "#     tokens = tokenize.generate_tokens(f.readline)\n",
    "#     tokenlist = [token for token in tokens]\n",
    "#     print(tokenlist)"
   ]
  },
  {
   "cell_type": "code",
   "execution_count": 6,
   "metadata": {},
   "outputs": [
    {
     "data": {
      "text/plain": [
       "[TokenInfo(type=62 (NL), string='\\n', start=(4, 19), end=(4, 20), line='# This is a comment\\n'),\n",
       " TokenInfo(type=60 (ERRORTOKEN), string='!', start=(5, 0), end=(5, 1), line='!this executes some external code\\n'),\n",
       " TokenInfo(type=1 (NAME), string='this', start=(5, 1), end=(5, 5), line='!this executes some external code\\n'),\n",
       " TokenInfo(type=1 (NAME), string='executes', start=(5, 6), end=(5, 14), line='!this executes some external code\\n'),\n",
       " TokenInfo(type=1 (NAME), string='some', start=(5, 15), end=(5, 19), line='!this executes some external code\\n'),\n",
       " TokenInfo(type=1 (NAME), string='external', start=(5, 20), end=(5, 28), line='!this executes some external code\\n'),\n",
       " TokenInfo(type=1 (NAME), string='code', start=(5, 29), end=(5, 33), line='!this executes some external code\\n'),\n",
       " TokenInfo(type=4 (NEWLINE), string='\\n', start=(5, 33), end=(5, 34), line='!this executes some external code\\n'),\n",
       " TokenInfo(type=1 (NAME), string='a', start=(6, 0), end=(6, 1), line='a = 5\\n'),\n",
       " TokenInfo(type=54 (OP), string='=', start=(6, 2), end=(6, 3), line='a = 5\\n'),\n",
       " TokenInfo(type=2 (NUMBER), string='5', start=(6, 4), end=(6, 5), line='a = 5\\n'),\n",
       " TokenInfo(type=4 (NEWLINE), string='\\n', start=(6, 5), end=(6, 6), line='a = 5\\n'),\n",
       " TokenInfo(type=1 (NAME), string='a', start=(7, 0), end=(7, 1), line='a\\n'),\n",
       " TokenInfo(type=4 (NEWLINE), string='\\n', start=(7, 1), end=(7, 2), line='a\\n'),\n",
       " TokenInfo(type=1 (NAME), string='print', start=(8, 0), end=(8, 5), line='print(a)\\n'),\n",
       " TokenInfo(type=54 (OP), string='(', start=(8, 5), end=(8, 6), line='print(a)\\n'),\n",
       " TokenInfo(type=1 (NAME), string='a', start=(8, 6), end=(8, 7), line='print(a)\\n'),\n",
       " TokenInfo(type=54 (OP), string=')', start=(8, 7), end=(8, 8), line='print(a)\\n'),\n",
       " TokenInfo(type=4 (NEWLINE), string='\\n', start=(8, 8), end=(8, 9), line='print(a)\\n'),\n",
       " TokenInfo(type=0 (ENDMARKER), string='', start=(9, 0), end=(9, 0), line='')]"
      ]
     },
     "execution_count": 6,
     "metadata": {},
     "output_type": "execute_result"
    }
   ],
   "source": [
    "ccd.get_token_list(fname)\n"
   ]
  },
  {
   "cell_type": "code",
   "execution_count": null,
   "metadata": {},
   "outputs": [],
   "source": []
  }
 ],
 "metadata": {
  "kernelspec": {
   "display_name": "code_copy_detector",
   "language": "python",
   "name": "python3"
  },
  "language_info": {
   "codemirror_mode": {
    "name": "ipython",
    "version": 3
   },
   "file_extension": ".py",
   "mimetype": "text/x-python",
   "name": "python",
   "nbconvert_exporter": "python",
   "pygments_lexer": "ipython3",
   "version": "3.11.10"
  }
 },
 "nbformat": 4,
 "nbformat_minor": 2
}
