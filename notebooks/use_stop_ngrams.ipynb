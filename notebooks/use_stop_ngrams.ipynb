{
 "cells": [
  {
   "cell_type": "code",
   "execution_count": 1,
   "metadata": {},
   "outputs": [],
   "source": [
    "from dataclasses import dataclass\n",
    "\n",
    "@dataclass\n",
    "class NGramData:\n",
    "    file: str\n",
    "    ngram: list"
   ]
  },
  {
   "cell_type": "code",
   "execution_count": 2,
   "metadata": {},
   "outputs": [],
   "source": [
    "import tokenize\n",
    "\n",
    "def get_token_list(fname):\n",
    "    with tokenize.open(fname) as f:\n",
    "        tokens = tokenize.generate_tokens(f.readline)\n",
    "        tokenlist = [token for token in tokens]\n",
    "    return tokenlist\n",
    "\n",
    "def get_token_ngrams(tokenlist, n):\n",
    "    ngrams = []\n",
    "    for i in range(len(tokenlist) - n + 1):\n",
    "        ngram = tuple(tokenlist[i:i + n])\n",
    "        ngrams.append(ngram)\n",
    "    return ngrams\n",
    "\n",
    "def get_all_token_ngrams(tokenlist, min_n, max_n):\n",
    "    all_ngrams = []\n",
    "    for n in range(min_n, max_n+1):\n",
    "        ngrams = get_token_ngrams(tokenlist, n)\n",
    "        all_ngrams.append(ngrams)\n",
    "    return all_ngrams"
   ]
  },
  {
   "cell_type": "code",
   "execution_count": 3,
   "metadata": {},
   "outputs": [],
   "source": [
    "def compare_ngram_dictionaries(dict1, dict2):\n",
    "    shared_ngrams = {}\n",
    "    for ngram in dict1:\n",
    "        if ngram in dict2:\n",
    "            shared_ngrams[ngram] = (dict1[ngram], dict2[ngram])\n",
    "    return shared_ngrams, len(shared_ngrams), len(dict1), len(dict2)"
   ]
  },
  {
   "cell_type": "code",
   "execution_count": null,
   "metadata": {},
   "outputs": [],
   "source": [
    "def make_ngram_dictionary(ngrams, filename, stop_ngrams=None):\n",
    "    if stop_ngrams is None:\n",
    "        stop_ngrams = set()\n",
    "    ngram_dict = {}\n",
    "    for ngram in ngrams:\n",
    "        tokentypes = tuple( [token.type for token in ngram] )\n",
    "        data = NGramData(file=filename, ngram=ngrams)\n",
    "        if tokentypes in stop_ngrams:\n",
    "            continue\n",
    "        if ngram in ngram_dict:\n",
    "            ngram_dict[tokentypes].append(data)\n",
    "        else:\n",
    "            ngram_dict[tokentypes] = [data]\n",
    "    return ngram_dict"
   ]
  },
  {
   "cell_type": "code",
   "execution_count": 19,
   "metadata": {},
   "outputs": [
    {
     "ename": "TypeError",
     "evalue": "argument of type 'NoneType' is not iterable",
     "output_type": "error",
     "traceback": [
      "\u001b[0;31m---------------------------------------------------------------------------\u001b[0m",
      "\u001b[0;31mTypeError\u001b[0m                                 Traceback (most recent call last)",
      "Cell \u001b[0;32mIn[19], line 3\u001b[0m\n\u001b[1;32m      1\u001b[0m tokenlist \u001b[38;5;241m=\u001b[39m get_token_list(\u001b[38;5;124m'\u001b[39m\u001b[38;5;124mbubblesort1.py\u001b[39m\u001b[38;5;124m'\u001b[39m)\n\u001b[1;32m      2\u001b[0m ngrams \u001b[38;5;241m=\u001b[39m get_token_ngrams(tokenlist, \u001b[38;5;241m5\u001b[39m)\n\u001b[0;32m----> 3\u001b[0m ngram_dict \u001b[38;5;241m=\u001b[39m \u001b[43mmake_ngram_dictionary\u001b[49m\u001b[43m(\u001b[49m\u001b[43mngrams\u001b[49m\u001b[43m,\u001b[49m\u001b[43m \u001b[49m\u001b[38;5;124;43m'\u001b[39;49m\u001b[38;5;124;43mbubblesort1.py\u001b[39;49m\u001b[38;5;124;43m'\u001b[39;49m\u001b[43m)\u001b[49m\n\u001b[1;32m      4\u001b[0m \u001b[38;5;28mprint\u001b[39m(ngram_dict\u001b[38;5;241m.\u001b[39mkeys())\n",
      "Cell \u001b[0;32mIn[18], line 6\u001b[0m, in \u001b[0;36mmake_ngram_dictionary\u001b[0;34m(ngrams, filename, stop_ngrams)\u001b[0m\n\u001b[1;32m      4\u001b[0m tokentypes \u001b[38;5;241m=\u001b[39m \u001b[38;5;28mtuple\u001b[39m( [token\u001b[38;5;241m.\u001b[39mtype \u001b[38;5;28;01mfor\u001b[39;00m token \u001b[38;5;129;01min\u001b[39;00m ngram] )\n\u001b[1;32m      5\u001b[0m data \u001b[38;5;241m=\u001b[39m NGramData(file\u001b[38;5;241m=\u001b[39mfilename, ngram\u001b[38;5;241m=\u001b[39mngrams)\n\u001b[0;32m----> 6\u001b[0m \u001b[38;5;28;01mif\u001b[39;00m \u001b[43mtokentypes\u001b[49m\u001b[43m \u001b[49m\u001b[38;5;129;43;01min\u001b[39;49;00m\u001b[43m \u001b[49m\u001b[43mstop_ngrams\u001b[49m:\n\u001b[1;32m      7\u001b[0m     \u001b[38;5;28;01mcontinue\u001b[39;00m\n\u001b[1;32m      8\u001b[0m \u001b[38;5;28;01mif\u001b[39;00m ngram \u001b[38;5;129;01min\u001b[39;00m ngram_dict:\n",
      "\u001b[0;31mTypeError\u001b[0m: argument of type 'NoneType' is not iterable"
     ]
    }
   ],
   "source": [
    "tokenlist = get_token_list('bubblesort1.py')\n",
    "ngrams = get_token_ngrams(tokenlist, 5)\n",
    "ngram_dict = make_ngram_dictionary(ngrams, 'bubblesort1.py')\n",
    "print(ngram_dict.keys())"
   ]
  },
  {
   "cell_type": "code",
   "execution_count": 20,
   "metadata": {},
   "outputs": [],
   "source": [
    "\n",
    "tokenlist2 = get_token_list('bubblesort3.py')\n",
    "ngrams2 = get_token_ngrams(tokenlist2, 5)\n",
    "ngram_dict2 = make_ngram_dictionary(ngrams2, 'bubblesort3.py', stop_ngrams=ngram_dict)\n",
    "\n",
    "shared_ngrams, n_copies, len_dict_1, len_dict_2 = compare_ngram_dictionaries(ngram_dict, ngram_dict2)"
   ]
  },
  {
   "cell_type": "code",
   "execution_count": 7,
   "metadata": {},
   "outputs": [
    {
     "name": "stdout",
     "output_type": "stream",
     "text": [
      "69 69 69\n"
     ]
    }
   ],
   "source": [
    "print(n_copies, len_dict_1, len_dict_2)"
   ]
  },
  {
   "cell_type": "code",
   "execution_count": null,
   "metadata": {},
   "outputs": [],
   "source": []
  }
 ],
 "metadata": {
  "kernelspec": {
   "display_name": "code_copy_detector",
   "language": "python",
   "name": "python3"
  },
  "language_info": {
   "codemirror_mode": {
    "name": "ipython",
    "version": 3
   },
   "file_extension": ".py",
   "mimetype": "text/x-python",
   "name": "python",
   "nbconvert_exporter": "python",
   "pygments_lexer": "ipython3",
   "version": "3.11.10"
  }
 },
 "nbformat": 4,
 "nbformat_minor": 2
}
