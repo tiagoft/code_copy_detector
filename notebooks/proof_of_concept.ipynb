{
 "cells": [
  {
   "cell_type": "code",
   "execution_count": 2,
   "metadata": {},
   "outputs": [],
   "source": [
    "import tokenize\n",
    "\n",
    "def get_token_list(fname):\n",
    "    with tokenize.open(fname) as f:\n",
    "        tokens = tokenize.generate_tokens(f.readline)\n",
    "        tokenlist = [token for token in tokens]\n",
    "    return tokenlist\n",
    "\n",
    "def get_token_ngrams(tokenlist, n):\n",
    "    ngrams = []\n",
    "    for i in range(len(tokenlist) - n + 1):\n",
    "        ngram = tuple(tokenlist[i:i + n])\n",
    "        ngrams.append(ngram)\n",
    "    return ngrams\n",
    "\n",
    "def get_all_token_ngrams(tokenlist, min_n, max_n):\n",
    "    all_ngrams = []\n",
    "    for n in range(min_n, max_n+1):\n",
    "        ngrams = get_token_ngrams(tokenlist, n)\n",
    "        all_ngrams.append(ngrams)\n",
    "    return all_ngrams"
   ]
  },
  {
   "cell_type": "code",
   "execution_count": 3,
   "metadata": {},
   "outputs": [],
   "source": [
    "from dataclasses import dataclass\n",
    "\n",
    "@dataclass\n",
    "class NGramData:\n",
    "    file: str\n",
    "    ngram: list\n",
    "\n",
    "def make_ngram_dictionary(ngrams, filename):\n",
    "    ngram_dict = {}\n",
    "    for ngram in ngrams:\n",
    "        tokentypes = tuple( [token.type for token in ngram] )\n",
    "        data = NGramData(file=filename, ngram=ngrams)\n",
    "        if ngram in ngram_dict:\n",
    "            ngram_dict[tokentypes].append(data)\n",
    "        else:\n",
    "            ngram_dict[tokentypes] = [data]\n",
    "    return ngram_dict\n"
   ]
  },
  {
   "cell_type": "code",
   "execution_count": 9,
   "metadata": {},
   "outputs": [
    {
     "name": "stdout",
     "output_type": "stream",
     "text": [
      "69 69 69\n"
     ]
    }
   ],
   "source": [
    "def compare_ngram_dictionaries(dict1, dict2):\n",
    "    shared_ngrams = {}\n",
    "    for ngram in dict1:\n",
    "        if ngram in dict2:\n",
    "            shared_ngrams[ngram] = (dict1[ngram], dict2[ngram])\n",
    "    return shared_ngrams, len(shared_ngrams), len(dict1), len(dict2)\n",
    "\n",
    "tokenlist = get_token_list('bubblesort1.py')\n",
    "ngrams = get_token_ngrams(tokenlist, 20)\n",
    "ngram_dict = make_ngram_dictionary(ngrams, 'bubblesort1.py')\n",
    "tokenlist2 = get_token_list('bubblesort3.py')\n",
    "ngrams2 = get_token_ngrams(tokenlist2, 20)\n",
    "ngram_dict2 = make_ngram_dictionary(ngrams2, 'bubblesort3.py')\n",
    "shared_ngrams, n_copies, len_dict_1, len_dict_2 = compare_ngram_dictionaries(ngram_dict, ngram_dict2)\n",
    "\n",
    "print(n_copies, len_dict_1, len_dict_2)\n"
   ]
  },
  {
   "cell_type": "code",
   "execution_count": null,
   "metadata": {},
   "outputs": [],
   "source": []
  },
  {
   "cell_type": "code",
   "execution_count": null,
   "metadata": {},
   "outputs": [],
   "source": []
  },
  {
   "cell_type": "code",
   "execution_count": null,
   "metadata": {},
   "outputs": [],
   "source": []
  }
 ],
 "metadata": {
  "kernelspec": {
   "display_name": "code_copy_detector",
   "language": "python",
   "name": "python3"
  },
  "language_info": {
   "codemirror_mode": {
    "name": "ipython",
    "version": 3
   },
   "file_extension": ".py",
   "mimetype": "text/x-python",
   "name": "python",
   "nbconvert_exporter": "python",
   "pygments_lexer": "ipython3",
   "version": "3.11.10"
  }
 },
 "nbformat": 4,
 "nbformat_minor": 2
}
